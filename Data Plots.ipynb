{
 "cells": [
  {
   "cell_type": "code",
   "execution_count": 1,
   "metadata": {},
   "outputs": [
    {
     "data": {
      "text/html": [
       "<script>requirejs.config({paths: { 'plotly': ['https://cdn.plot.ly/plotly-latest.min']},});if(!window.Plotly) {{require(['plotly'],function(plotly) {window.Plotly=plotly;});}}</script>"
      ],
      "text/vnd.plotly.v1+html": [
       "<script>requirejs.config({paths: { 'plotly': ['https://cdn.plot.ly/plotly-latest.min']},});if(!window.Plotly) {{require(['plotly'],function(plotly) {window.Plotly=plotly;});}}</script>"
      ]
     },
     "metadata": {},
     "output_type": "display_data"
    }
   ],
   "source": [
    "import numpy as np\n",
    "import plotly.offline as offline\n",
    "import plotly.graph_objs as go\n",
    "from plotly.offline import download_plotlyjs, init_notebook_mode, plot, iplot\n",
    "init_notebook_mode(connected=True)"
   ]
  },
  {
   "cell_type": "code",
   "execution_count": 2,
   "metadata": {},
   "outputs": [],
   "source": [
    "#Hiddent\n",
    "cnn50=np.loadtxt(\"CNN-50-Hidden.csv\", delimiter=',')"
   ]
  },
  {
   "cell_type": "code",
   "execution_count": 3,
   "metadata": {},
   "outputs": [],
   "source": [
    "val_acc=np.mean(cnn50[:,0].reshape(10,31), axis =1).tolist()\n",
    "val_loss=np.mean(cnn50[:,1].reshape(10,31), axis =0).tolist()\n",
    "train_acc=np.mean(cnn50[:,2].reshape(10,31), axis =1).tolist()\n",
    "train_loss=np.mean(cnn50[:,3].reshape(10,31), axis =0).tolist()\n"
   ]
  },
  {
   "cell_type": "code",
   "execution_count": 4,
   "metadata": {},
   "outputs": [
    {
     "data": {
      "application/vnd.plotly.v1+json": {
       "data": [
        {
         "mode": "lines+markers",
         "name": "Validation Set",
         "type": "scatter",
         "x": [
          1,
          2,
          3,
          4,
          5,
          6,
          7,
          8,
          9,
          10
         ],
         "y": [
          48.23870967741935,
          56.58387096774192,
          58.45806451612903,
          60.4,
          61.22903225806452,
          61.95483870967741,
          62.461290322580645,
          63.18709677419354,
          63.25483870967742,
          63.396774193548396
         ]
        },
        {
         "mode": "lines+markers",
         "name": "Training Set",
         "type": "scatter",
         "x": [
          1,
          2,
          3,
          4,
          5,
          6,
          7,
          8,
          9,
          10
         ],
         "y": [
          49.6499195448387,
          58.06520041741935,
          59.97702799870968,
          61.913569655806455,
          62.76219688677419,
          63.50554907903224,
          63.93488085516129,
          64.65027524258065,
          64.57280747580644,
          64.90507442967743
         ]
        }
       ],
       "layout": {
        "title": "CNN Accuracy(Hidden layer= 50)",
        "xaxis": {
         "title": "# Of Epoch"
        },
        "yaxis": {
         "title": "Accuracy"
        }
       }
      },
      "text/html": [
       "<div id=\"2e70b76c-11de-48b7-8aec-756b285a7f52\" style=\"height: 525px; width: 100%;\" class=\"plotly-graph-div\"></div><script type=\"text/javascript\">require([\"plotly\"], function(Plotly) { window.PLOTLYENV=window.PLOTLYENV || {};window.PLOTLYENV.BASE_URL=\"https://plot.ly\";Plotly.newPlot(\"2e70b76c-11de-48b7-8aec-756b285a7f52\", [{\"type\": \"scatter\", \"x\": [1, 2, 3, 4, 5, 6, 7, 8, 9, 10], \"y\": [48.23870967741935, 56.58387096774192, 58.45806451612903, 60.4, 61.22903225806452, 61.95483870967741, 62.461290322580645, 63.18709677419354, 63.25483870967742, 63.396774193548396], \"mode\": \"lines+markers\", \"name\": \"Validation Set\"}, {\"type\": \"scatter\", \"x\": [1, 2, 3, 4, 5, 6, 7, 8, 9, 10], \"y\": [49.6499195448387, 58.06520041741935, 59.97702799870968, 61.913569655806455, 62.76219688677419, 63.50554907903224, 63.93488085516129, 64.65027524258065, 64.57280747580644, 64.90507442967743], \"mode\": \"lines+markers\", \"name\": \"Training Set\"}], {\"title\": \"CNN Accuracy(Hidden layer= 50)\", \"xaxis\": {\"title\": \"# Of Epoch\"}, \"yaxis\": {\"title\": \"Accuracy\"}}, {\"showLink\": true, \"linkText\": \"Export to plot.ly\"})});</script>"
      ],
      "text/vnd.plotly.v1+html": [
       "<div id=\"2e70b76c-11de-48b7-8aec-756b285a7f52\" style=\"height: 525px; width: 100%;\" class=\"plotly-graph-div\"></div><script type=\"text/javascript\">require([\"plotly\"], function(Plotly) { window.PLOTLYENV=window.PLOTLYENV || {};window.PLOTLYENV.BASE_URL=\"https://plot.ly\";Plotly.newPlot(\"2e70b76c-11de-48b7-8aec-756b285a7f52\", [{\"type\": \"scatter\", \"x\": [1, 2, 3, 4, 5, 6, 7, 8, 9, 10], \"y\": [48.23870967741935, 56.58387096774192, 58.45806451612903, 60.4, 61.22903225806452, 61.95483870967741, 62.461290322580645, 63.18709677419354, 63.25483870967742, 63.396774193548396], \"mode\": \"lines+markers\", \"name\": \"Validation Set\"}, {\"type\": \"scatter\", \"x\": [1, 2, 3, 4, 5, 6, 7, 8, 9, 10], \"y\": [49.6499195448387, 58.06520041741935, 59.97702799870968, 61.913569655806455, 62.76219688677419, 63.50554907903224, 63.93488085516129, 64.65027524258065, 64.57280747580644, 64.90507442967743], \"mode\": \"lines+markers\", \"name\": \"Training Set\"}], {\"title\": \"CNN Accuracy(Hidden layer= 50)\", \"xaxis\": {\"title\": \"# Of Epoch\"}, \"yaxis\": {\"title\": \"Accuracy\"}}, {\"showLink\": true, \"linkText\": \"Export to plot.ly\"})});</script>"
      ]
     },
     "metadata": {},
     "output_type": "display_data"
    }
   ],
   "source": [
    "trace0 = go.Scatter(\n",
    "    x = np.arange(10)+1,\n",
    "    y = val_acc,\n",
    "    mode = 'lines+markers',\n",
    "    name = 'Validation Set')\n",
    "    \n",
    "trace1 = go.Scatter(\n",
    "    x = np.arange(10)+1,\n",
    "    y = train_acc,\n",
    "    mode = 'lines+markers',\n",
    "    name = 'Training Set')\n",
    "    \n",
    "data = [trace0, trace1]\n",
    "\n",
    "layout = dict(title = 'CNN Accuracy(Hidden layer= 50)',\n",
    "              xaxis = dict(title = '# Of Epoch'),\n",
    "              yaxis = dict(title = 'Accuracy'),\n",
    "              )\n",
    "\n",
    "fig = go.Figure(data=data, layout=layout)\n",
    "offline.iplot(fig, filename='angled-text-bar')"
   ]
  },
  {
   "cell_type": "code",
   "execution_count": 5,
   "metadata": {},
   "outputs": [
    {
     "data": {
      "application/vnd.plotly.v1+json": {
       "data": [
        {
         "mode": "lines+markers",
         "name": "Validation Set",
         "type": "scatter",
         "x": [
          0,
          100,
          200,
          300,
          400,
          500,
          600,
          700,
          800,
          900,
          1000,
          1100,
          1200,
          1300,
          1400,
          1500,
          1600,
          1700,
          1800,
          1900,
          2000,
          2100,
          2200,
          2300,
          2400,
          2500,
          2600,
          2700,
          2800,
          2900,
          3000
         ],
         "y": [
          0.3127441,
          0.1566185,
          0.10438700000000001,
          0.0782937,
          0.06262949999999999,
          0.0520918,
          0.0446007,
          0.0390177,
          0.0346307,
          0.031131199999999998,
          0.028322099999999996,
          0.025932700000000003,
          0.0238985,
          0.022185,
          0.0207344,
          0.0194127,
          0.0182407,
          0.0172298,
          0.0163154,
          0.015505799999999997,
          0.0147333,
          0.014077800000000001,
          0.013460999999999997,
          0.0128855,
          0.0123661,
          0.011900299999999999,
          0.0114684,
          0.0110416,
          0.010661299999999999,
          0.010301600000000001,
          0.0099668
         ]
        },
        {
         "mode": "lines+markers",
         "name": "Training Set",
         "type": "scatter",
         "x": [
          0,
          100,
          200,
          300,
          400,
          500,
          600,
          700,
          800,
          900,
          1000,
          1100,
          1200,
          1300,
          1400,
          1500,
          1600,
          1700,
          1800,
          1900,
          2000,
          2100,
          2200,
          2300,
          2400,
          2500,
          2600,
          2700,
          2800,
          2900,
          3000
         ],
         "y": [
          1.0642333,
          0.4355466,
          0.2901421,
          0.21680660000000002,
          0.1739969,
          0.1449392,
          0.12379870000000001,
          0.1079618,
          0.0957258,
          0.08625089999999999,
          0.07784660000000002,
          0.071396,
          0.0657666,
          0.06105879999999999,
          0.05729949999999999,
          0.0534482,
          0.05003169999999999,
          0.0472379,
          0.044847899999999996,
          0.0427705,
          0.040109000000000006,
          0.038679200000000004,
          0.0368116,
          0.0356379,
          0.0340461,
          0.032661,
          0.0316035,
          0.0303056,
          0.029089999999999998,
          0.0283694,
          0.027268800000000003
         ]
        }
       ],
       "layout": {
        "title": "CNN Accuracy(Hidden layer= 50)",
        "xaxis": {
         "title": "# Of Iterations"
        },
        "yaxis": {
         "title": "Loss"
        }
       }
      },
      "text/html": [
       "<div id=\"f1cc736c-e37f-4f17-bf89-296e91378a4f\" style=\"height: 525px; width: 100%;\" class=\"plotly-graph-div\"></div><script type=\"text/javascript\">require([\"plotly\"], function(Plotly) { window.PLOTLYENV=window.PLOTLYENV || {};window.PLOTLYENV.BASE_URL=\"https://plot.ly\";Plotly.newPlot(\"f1cc736c-e37f-4f17-bf89-296e91378a4f\", [{\"type\": \"scatter\", \"x\": [0, 100, 200, 300, 400, 500, 600, 700, 800, 900, 1000, 1100, 1200, 1300, 1400, 1500, 1600, 1700, 1800, 1900, 2000, 2100, 2200, 2300, 2400, 2500, 2600, 2700, 2800, 2900, 3000], \"y\": [0.3127441, 0.1566185, 0.10438700000000001, 0.0782937, 0.06262949999999999, 0.0520918, 0.0446007, 0.0390177, 0.0346307, 0.031131199999999998, 0.028322099999999996, 0.025932700000000003, 0.0238985, 0.022185, 0.0207344, 0.0194127, 0.0182407, 0.0172298, 0.0163154, 0.015505799999999997, 0.0147333, 0.014077800000000001, 0.013460999999999997, 0.0128855, 0.0123661, 0.011900299999999999, 0.0114684, 0.0110416, 0.010661299999999999, 0.010301600000000001, 0.0099668], \"mode\": \"lines+markers\", \"name\": \"Validation Set\"}, {\"type\": \"scatter\", \"x\": [0, 100, 200, 300, 400, 500, 600, 700, 800, 900, 1000, 1100, 1200, 1300, 1400, 1500, 1600, 1700, 1800, 1900, 2000, 2100, 2200, 2300, 2400, 2500, 2600, 2700, 2800, 2900, 3000], \"y\": [1.0642333, 0.4355466, 0.2901421, 0.21680660000000002, 0.1739969, 0.1449392, 0.12379870000000001, 0.1079618, 0.0957258, 0.08625089999999999, 0.07784660000000002, 0.071396, 0.0657666, 0.06105879999999999, 0.05729949999999999, 0.0534482, 0.05003169999999999, 0.0472379, 0.044847899999999996, 0.0427705, 0.040109000000000006, 0.038679200000000004, 0.0368116, 0.0356379, 0.0340461, 0.032661, 0.0316035, 0.0303056, 0.029089999999999998, 0.0283694, 0.027268800000000003], \"mode\": \"lines+markers\", \"name\": \"Training Set\"}], {\"title\": \"CNN Accuracy(Hidden layer= 50)\", \"xaxis\": {\"title\": \"# Of Iterations\"}, \"yaxis\": {\"title\": \"Loss\"}}, {\"showLink\": true, \"linkText\": \"Export to plot.ly\"})});</script>"
      ],
      "text/vnd.plotly.v1+html": [
       "<div id=\"f1cc736c-e37f-4f17-bf89-296e91378a4f\" style=\"height: 525px; width: 100%;\" class=\"plotly-graph-div\"></div><script type=\"text/javascript\">require([\"plotly\"], function(Plotly) { window.PLOTLYENV=window.PLOTLYENV || {};window.PLOTLYENV.BASE_URL=\"https://plot.ly\";Plotly.newPlot(\"f1cc736c-e37f-4f17-bf89-296e91378a4f\", [{\"type\": \"scatter\", \"x\": [0, 100, 200, 300, 400, 500, 600, 700, 800, 900, 1000, 1100, 1200, 1300, 1400, 1500, 1600, 1700, 1800, 1900, 2000, 2100, 2200, 2300, 2400, 2500, 2600, 2700, 2800, 2900, 3000], \"y\": [0.3127441, 0.1566185, 0.10438700000000001, 0.0782937, 0.06262949999999999, 0.0520918, 0.0446007, 0.0390177, 0.0346307, 0.031131199999999998, 0.028322099999999996, 0.025932700000000003, 0.0238985, 0.022185, 0.0207344, 0.0194127, 0.0182407, 0.0172298, 0.0163154, 0.015505799999999997, 0.0147333, 0.014077800000000001, 0.013460999999999997, 0.0128855, 0.0123661, 0.011900299999999999, 0.0114684, 0.0110416, 0.010661299999999999, 0.010301600000000001, 0.0099668], \"mode\": \"lines+markers\", \"name\": \"Validation Set\"}, {\"type\": \"scatter\", \"x\": [0, 100, 200, 300, 400, 500, 600, 700, 800, 900, 1000, 1100, 1200, 1300, 1400, 1500, 1600, 1700, 1800, 1900, 2000, 2100, 2200, 2300, 2400, 2500, 2600, 2700, 2800, 2900, 3000], \"y\": [1.0642333, 0.4355466, 0.2901421, 0.21680660000000002, 0.1739969, 0.1449392, 0.12379870000000001, 0.1079618, 0.0957258, 0.08625089999999999, 0.07784660000000002, 0.071396, 0.0657666, 0.06105879999999999, 0.05729949999999999, 0.0534482, 0.05003169999999999, 0.0472379, 0.044847899999999996, 0.0427705, 0.040109000000000006, 0.038679200000000004, 0.0368116, 0.0356379, 0.0340461, 0.032661, 0.0316035, 0.0303056, 0.029089999999999998, 0.0283694, 0.027268800000000003], \"mode\": \"lines+markers\", \"name\": \"Training Set\"}], {\"title\": \"CNN Accuracy(Hidden layer= 50)\", \"xaxis\": {\"title\": \"# Of Iterations\"}, \"yaxis\": {\"title\": \"Loss\"}}, {\"showLink\": true, \"linkText\": \"Export to plot.ly\"})});</script>"
      ]
     },
     "metadata": {},
     "output_type": "display_data"
    }
   ],
   "source": [
    "trace0 = go.Scatter(\n",
    "    x = np.arange(31) * 100,\n",
    "    y = val_loss,\n",
    "    mode = 'lines+markers',\n",
    "    name = 'Validation Set')\n",
    "    \n",
    "trace1 = go.Scatter(\n",
    "    x = np.arange(31) * 100,\n",
    "    y = train_loss,\n",
    "    mode = 'lines+markers',\n",
    "    name = 'Training Set')\n",
    "    \n",
    "data = [trace0, trace1]\n",
    "\n",
    "layout = dict(title = 'CNN Accuracy(Hidden layer= 50)',\n",
    "              xaxis = dict(title = '# Of Iterations'),\n",
    "              yaxis = dict(title = 'Loss'),\n",
    "              )\n",
    "\n",
    "fig = go.Figure(data=data, layout=layout)\n",
    "offline.iplot(fig, filename='angled-text-bar')"
   ]
  },
  {
   "cell_type": "code",
   "execution_count": 6,
   "metadata": {},
   "outputs": [],
   "source": [
    "cnn100=np.loadtxt(\"CNN-100-Hidden.csv\", delimiter=',')\n",
    "val_acc=np.mean(cnn100[:,0].reshape(10,31), axis =1).tolist()\n",
    "val_loss=np.mean(cnn100[:,1].reshape(10,31), axis =0).tolist()\n",
    "train_acc=np.mean(cnn100[:,2].reshape(10,31), axis =1).tolist()\n",
    "train_loss=np.mean(cnn100[:,3].reshape(10,31), axis =0).tolist()"
   ]
  },
  {
   "cell_type": "code",
   "execution_count": 7,
   "metadata": {},
   "outputs": [
    {
     "data": {
      "application/vnd.plotly.v1+json": {
       "data": [
        {
         "mode": "lines+markers",
         "name": "Validation Set",
         "type": "scatter",
         "x": [
          1,
          2,
          3,
          4,
          5,
          6,
          7,
          8,
          9,
          10
         ],
         "y": [
          51.05483870967741,
          58.777419354838706,
          60.97419354838709,
          62.545161290322575,
          62.11935483870969,
          63.48064516129033,
          63.822580645161295,
          63.55483870967742,
          63.30967741935484,
          63.48387096774194
         ]
        },
        {
         "mode": "lines+markers",
         "name": "Training Set",
         "type": "scatter",
         "x": [
          1,
          2,
          3,
          4,
          5,
          6,
          7,
          8,
          9,
          10
         ],
         "y": [
          51.5774193548387,
          59.30645161290322,
          61.57419354838709,
          63.164516129032265,
          62.683870967741925,
          64.0516129032258,
          64.12258064516129,
          64.28709677419354,
          64.03548387096774,
          64.0741935483871
         ]
        }
       ],
       "layout": {
        "title": "CNN Accuracy(Hidden layer= 100)",
        "xaxis": {
         "title": "# Of Epoch"
        },
        "yaxis": {
         "title": "Accuracy"
        }
       }
      },
      "text/html": [
       "<div id=\"5a010691-9e2d-4721-aeee-a0665d03bcae\" style=\"height: 525px; width: 100%;\" class=\"plotly-graph-div\"></div><script type=\"text/javascript\">require([\"plotly\"], function(Plotly) { window.PLOTLYENV=window.PLOTLYENV || {};window.PLOTLYENV.BASE_URL=\"https://plot.ly\";Plotly.newPlot(\"5a010691-9e2d-4721-aeee-a0665d03bcae\", [{\"type\": \"scatter\", \"x\": [1, 2, 3, 4, 5, 6, 7, 8, 9, 10], \"y\": [51.05483870967741, 58.777419354838706, 60.97419354838709, 62.545161290322575, 62.11935483870969, 63.48064516129033, 63.822580645161295, 63.55483870967742, 63.30967741935484, 63.48387096774194], \"mode\": \"lines+markers\", \"name\": \"Validation Set\"}, {\"type\": \"scatter\", \"x\": [1, 2, 3, 4, 5, 6, 7, 8, 9, 10], \"y\": [51.5774193548387, 59.30645161290322, 61.57419354838709, 63.164516129032265, 62.683870967741925, 64.0516129032258, 64.12258064516129, 64.28709677419354, 64.03548387096774, 64.0741935483871], \"mode\": \"lines+markers\", \"name\": \"Training Set\"}], {\"title\": \"CNN Accuracy(Hidden layer= 100)\", \"xaxis\": {\"title\": \"# Of Epoch\"}, \"yaxis\": {\"title\": \"Accuracy\"}}, {\"showLink\": true, \"linkText\": \"Export to plot.ly\"})});</script>"
      ],
      "text/vnd.plotly.v1+html": [
       "<div id=\"5a010691-9e2d-4721-aeee-a0665d03bcae\" style=\"height: 525px; width: 100%;\" class=\"plotly-graph-div\"></div><script type=\"text/javascript\">require([\"plotly\"], function(Plotly) { window.PLOTLYENV=window.PLOTLYENV || {};window.PLOTLYENV.BASE_URL=\"https://plot.ly\";Plotly.newPlot(\"5a010691-9e2d-4721-aeee-a0665d03bcae\", [{\"type\": \"scatter\", \"x\": [1, 2, 3, 4, 5, 6, 7, 8, 9, 10], \"y\": [51.05483870967741, 58.777419354838706, 60.97419354838709, 62.545161290322575, 62.11935483870969, 63.48064516129033, 63.822580645161295, 63.55483870967742, 63.30967741935484, 63.48387096774194], \"mode\": \"lines+markers\", \"name\": \"Validation Set\"}, {\"type\": \"scatter\", \"x\": [1, 2, 3, 4, 5, 6, 7, 8, 9, 10], \"y\": [51.5774193548387, 59.30645161290322, 61.57419354838709, 63.164516129032265, 62.683870967741925, 64.0516129032258, 64.12258064516129, 64.28709677419354, 64.03548387096774, 64.0741935483871], \"mode\": \"lines+markers\", \"name\": \"Training Set\"}], {\"title\": \"CNN Accuracy(Hidden layer= 100)\", \"xaxis\": {\"title\": \"# Of Epoch\"}, \"yaxis\": {\"title\": \"Accuracy\"}}, {\"showLink\": true, \"linkText\": \"Export to plot.ly\"})});</script>"
      ]
     },
     "metadata": {},
     "output_type": "display_data"
    }
   ],
   "source": [
    "trace0 = go.Scatter(\n",
    "    x = np.arange(10)+1,\n",
    "    y = val_acc,\n",
    "    mode = 'lines+markers',\n",
    "    name = 'Validation Set')\n",
    "    \n",
    "trace1 = go.Scatter(\n",
    "    x = np.arange(10)+1,\n",
    "    y = train_acc,\n",
    "    mode = 'lines+markers',\n",
    "    name = 'Training Set')\n",
    "    \n",
    "data = [trace0, trace1]\n",
    "\n",
    "layout = dict(title = 'CNN Accuracy(Hidden layer= 100)',\n",
    "              xaxis = dict(title = '# Of Epoch'),\n",
    "              yaxis = dict(title = 'Accuracy'),\n",
    "              )\n",
    "\n",
    "fig = go.Figure(data=data, layout=layout)\n",
    "offline.iplot(fig, filename='angled-text-bar')"
   ]
  },
  {
   "cell_type": "code",
   "execution_count": 8,
   "metadata": {},
   "outputs": [
    {
     "data": {
      "application/vnd.plotly.v1+json": {
       "data": [
        {
         "mode": "lines+markers",
         "name": "Validation Set",
         "type": "scatter",
         "x": [
          0,
          100,
          200,
          300,
          400,
          500,
          600,
          700,
          800,
          900,
          1000,
          1100,
          1200,
          1300,
          1400,
          1500,
          1600,
          1700,
          1800,
          1900,
          2000,
          2100,
          2200,
          2300,
          2400,
          2500,
          2600,
          2700,
          2800,
          2900,
          3000
         ],
         "y": [
          0.3096,
          0.1542,
          0.10291999999999998,
          0.07708999999999999,
          0.061540000000000004,
          0.0514,
          0.04384,
          0.038400000000000004,
          0.034050000000000004,
          0.030619999999999998,
          0.027880000000000005,
          0.025480000000000003,
          0.023909999999999997,
          0.021840000000000002,
          0.02035,
          0.01908,
          0.017940000000000005,
          0.01695,
          0.016040000000000002,
          0.015269999999999997,
          0.01452,
          0.01386,
          0.01323,
          0.012719999999999999,
          0.01222,
          0.011729999999999999,
          0.011269999999999999,
          0.0109,
          0.010490000000000003,
          0.010178,
          0.009807
         ]
        },
        {
         "mode": "lines+markers",
         "name": "Training Set",
         "type": "scatter",
         "x": [
          0,
          100,
          200,
          300,
          400,
          500,
          600,
          700,
          800,
          900,
          1000,
          1100,
          1200,
          1300,
          1400,
          1500,
          1600,
          1700,
          1800,
          1900,
          2000,
          2100,
          2200,
          2300,
          2400,
          2500,
          2600,
          2700,
          2800,
          2900,
          3000
         ],
         "y": [
          1.0312999999999999,
          0.4163,
          0.27799999999999997,
          0.2081,
          0.1663,
          0.1386,
          0.1186,
          0.10334999999999998,
          0.09134,
          0.08251,
          0.0748,
          0.06835,
          0.0626,
          0.058679999999999996,
          0.05419,
          0.05080999999999999,
          0.048119999999999996,
          0.04528,
          0.042690000000000006,
          0.04054000000000001,
          0.03888,
          0.037020000000000004,
          0.03513999999999999,
          0.033979999999999996,
          0.03261,
          0.031080000000000003,
          0.030080000000000003,
          0.029089999999999998,
          0.027890000000000005,
          0.02706,
          0.02596
         ]
        }
       ],
       "layout": {
        "title": "CNN Accuracy(Hidden layer= 100)",
        "xaxis": {
         "title": "# Of Iterations"
        },
        "yaxis": {
         "title": "Loss"
        }
       }
      },
      "text/html": [
       "<div id=\"5690d8b7-6753-4c8f-929f-aed8628d4005\" style=\"height: 525px; width: 100%;\" class=\"plotly-graph-div\"></div><script type=\"text/javascript\">require([\"plotly\"], function(Plotly) { window.PLOTLYENV=window.PLOTLYENV || {};window.PLOTLYENV.BASE_URL=\"https://plot.ly\";Plotly.newPlot(\"5690d8b7-6753-4c8f-929f-aed8628d4005\", [{\"type\": \"scatter\", \"x\": [0, 100, 200, 300, 400, 500, 600, 700, 800, 900, 1000, 1100, 1200, 1300, 1400, 1500, 1600, 1700, 1800, 1900, 2000, 2100, 2200, 2300, 2400, 2500, 2600, 2700, 2800, 2900, 3000], \"y\": [0.3096, 0.1542, 0.10291999999999998, 0.07708999999999999, 0.061540000000000004, 0.0514, 0.04384, 0.038400000000000004, 0.034050000000000004, 0.030619999999999998, 0.027880000000000005, 0.025480000000000003, 0.023909999999999997, 0.021840000000000002, 0.02035, 0.01908, 0.017940000000000005, 0.01695, 0.016040000000000002, 0.015269999999999997, 0.01452, 0.01386, 0.01323, 0.012719999999999999, 0.01222, 0.011729999999999999, 0.011269999999999999, 0.0109, 0.010490000000000003, 0.010178, 0.009807], \"mode\": \"lines+markers\", \"name\": \"Validation Set\"}, {\"type\": \"scatter\", \"x\": [0, 100, 200, 300, 400, 500, 600, 700, 800, 900, 1000, 1100, 1200, 1300, 1400, 1500, 1600, 1700, 1800, 1900, 2000, 2100, 2200, 2300, 2400, 2500, 2600, 2700, 2800, 2900, 3000], \"y\": [1.0312999999999999, 0.4163, 0.27799999999999997, 0.2081, 0.1663, 0.1386, 0.1186, 0.10334999999999998, 0.09134, 0.08251, 0.0748, 0.06835, 0.0626, 0.058679999999999996, 0.05419, 0.05080999999999999, 0.048119999999999996, 0.04528, 0.042690000000000006, 0.04054000000000001, 0.03888, 0.037020000000000004, 0.03513999999999999, 0.033979999999999996, 0.03261, 0.031080000000000003, 0.030080000000000003, 0.029089999999999998, 0.027890000000000005, 0.02706, 0.02596], \"mode\": \"lines+markers\", \"name\": \"Training Set\"}], {\"title\": \"CNN Accuracy(Hidden layer= 100)\", \"xaxis\": {\"title\": \"# Of Iterations\"}, \"yaxis\": {\"title\": \"Loss\"}}, {\"showLink\": true, \"linkText\": \"Export to plot.ly\"})});</script>"
      ],
      "text/vnd.plotly.v1+html": [
       "<div id=\"5690d8b7-6753-4c8f-929f-aed8628d4005\" style=\"height: 525px; width: 100%;\" class=\"plotly-graph-div\"></div><script type=\"text/javascript\">require([\"plotly\"], function(Plotly) { window.PLOTLYENV=window.PLOTLYENV || {};window.PLOTLYENV.BASE_URL=\"https://plot.ly\";Plotly.newPlot(\"5690d8b7-6753-4c8f-929f-aed8628d4005\", [{\"type\": \"scatter\", \"x\": [0, 100, 200, 300, 400, 500, 600, 700, 800, 900, 1000, 1100, 1200, 1300, 1400, 1500, 1600, 1700, 1800, 1900, 2000, 2100, 2200, 2300, 2400, 2500, 2600, 2700, 2800, 2900, 3000], \"y\": [0.3096, 0.1542, 0.10291999999999998, 0.07708999999999999, 0.061540000000000004, 0.0514, 0.04384, 0.038400000000000004, 0.034050000000000004, 0.030619999999999998, 0.027880000000000005, 0.025480000000000003, 0.023909999999999997, 0.021840000000000002, 0.02035, 0.01908, 0.017940000000000005, 0.01695, 0.016040000000000002, 0.015269999999999997, 0.01452, 0.01386, 0.01323, 0.012719999999999999, 0.01222, 0.011729999999999999, 0.011269999999999999, 0.0109, 0.010490000000000003, 0.010178, 0.009807], \"mode\": \"lines+markers\", \"name\": \"Validation Set\"}, {\"type\": \"scatter\", \"x\": [0, 100, 200, 300, 400, 500, 600, 700, 800, 900, 1000, 1100, 1200, 1300, 1400, 1500, 1600, 1700, 1800, 1900, 2000, 2100, 2200, 2300, 2400, 2500, 2600, 2700, 2800, 2900, 3000], \"y\": [1.0312999999999999, 0.4163, 0.27799999999999997, 0.2081, 0.1663, 0.1386, 0.1186, 0.10334999999999998, 0.09134, 0.08251, 0.0748, 0.06835, 0.0626, 0.058679999999999996, 0.05419, 0.05080999999999999, 0.048119999999999996, 0.04528, 0.042690000000000006, 0.04054000000000001, 0.03888, 0.037020000000000004, 0.03513999999999999, 0.033979999999999996, 0.03261, 0.031080000000000003, 0.030080000000000003, 0.029089999999999998, 0.027890000000000005, 0.02706, 0.02596], \"mode\": \"lines+markers\", \"name\": \"Training Set\"}], {\"title\": \"CNN Accuracy(Hidden layer= 100)\", \"xaxis\": {\"title\": \"# Of Iterations\"}, \"yaxis\": {\"title\": \"Loss\"}}, {\"showLink\": true, \"linkText\": \"Export to plot.ly\"})});</script>"
      ]
     },
     "metadata": {},
     "output_type": "display_data"
    }
   ],
   "source": [
    "trace0 = go.Scatter(\n",
    "    x = np.arange(31) * 100,\n",
    "    y = val_loss,\n",
    "    mode = 'lines+markers',\n",
    "    name = 'Validation Set')\n",
    "    \n",
    "trace1 = go.Scatter(\n",
    "    x = np.arange(31) * 100,\n",
    "    y = train_loss,\n",
    "    mode = 'lines+markers',\n",
    "    name = 'Training Set')\n",
    "    \n",
    "data = [trace0, trace1]\n",
    "\n",
    "layout = dict(title = 'CNN Accuracy(Hidden layer= 100)',\n",
    "              xaxis = dict(title = '# Of Iterations'),\n",
    "              yaxis = dict(title = 'Loss'),\n",
    "              )\n",
    "\n",
    "fig = go.Figure(data=data, layout=layout)\n",
    "offline.iplot(fig, filename='angled-text-bar')"
   ]
  },
  {
   "cell_type": "code",
   "execution_count": 9,
   "metadata": {},
   "outputs": [],
   "source": [
    "rnn50=np.loadtxt(\"RNN-50-Hidden.csv\", delimiter=',')\n",
    "val_acc=np.mean(rnn50[:,0].reshape(5,31), axis =1).tolist()\n",
    "val_loss=np.mean(rnn50[:,1].reshape(5,31), axis =0).tolist()\n",
    "train_acc=np.mean(rnn50[:,2].reshape(5,31), axis =1).tolist()\n",
    "train_loss=np.mean(rnn50[:,3].reshape(5,31), axis =0).tolist()\n"
   ]
  },
  {
   "cell_type": "code",
   "execution_count": 10,
   "metadata": {},
   "outputs": [
    {
     "data": {
      "application/vnd.plotly.v1+json": {
       "data": [
        {
         "mode": "lines+markers",
         "name": "Validation Set",
         "type": "scatter",
         "x": [
          1,
          2,
          3,
          4,
          5
         ],
         "y": [
          40.35483870967741,
          45.512903225806454,
          47.00000000000001,
          48.00322580645162,
          48.79354838709678
         ]
        },
        {
         "mode": "lines+markers",
         "name": "Training Set",
         "type": "scatter",
         "x": [
          1,
          2,
          3,
          4,
          5
         ],
         "y": [
          40.20322580645162,
          45.6483870967742,
          47.11612903225806,
          47.954838709677425,
          48.6741935483871
         ]
        }
       ],
       "layout": {
        "title": "RNN Accuracy(Hidden layer= 50)",
        "xaxis": {
         "title": "# Of Epoch"
        },
        "yaxis": {
         "title": "Accuracy"
        }
       }
      },
      "text/html": [
       "<div id=\"a7fcf3c2-9faf-4854-83fa-252c9fcc04a6\" style=\"height: 525px; width: 100%;\" class=\"plotly-graph-div\"></div><script type=\"text/javascript\">require([\"plotly\"], function(Plotly) { window.PLOTLYENV=window.PLOTLYENV || {};window.PLOTLYENV.BASE_URL=\"https://plot.ly\";Plotly.newPlot(\"a7fcf3c2-9faf-4854-83fa-252c9fcc04a6\", [{\"type\": \"scatter\", \"x\": [1, 2, 3, 4, 5], \"y\": [40.35483870967741, 45.512903225806454, 47.00000000000001, 48.00322580645162, 48.79354838709678], \"mode\": \"lines+markers\", \"name\": \"Validation Set\"}, {\"type\": \"scatter\", \"x\": [1, 2, 3, 4, 5], \"y\": [40.20322580645162, 45.6483870967742, 47.11612903225806, 47.954838709677425, 48.6741935483871], \"mode\": \"lines+markers\", \"name\": \"Training Set\"}], {\"title\": \"RNN Accuracy(Hidden layer= 50)\", \"xaxis\": {\"title\": \"# Of Epoch\"}, \"yaxis\": {\"title\": \"Accuracy\"}}, {\"showLink\": true, \"linkText\": \"Export to plot.ly\"})});</script>"
      ],
      "text/vnd.plotly.v1+html": [
       "<div id=\"a7fcf3c2-9faf-4854-83fa-252c9fcc04a6\" style=\"height: 525px; width: 100%;\" class=\"plotly-graph-div\"></div><script type=\"text/javascript\">require([\"plotly\"], function(Plotly) { window.PLOTLYENV=window.PLOTLYENV || {};window.PLOTLYENV.BASE_URL=\"https://plot.ly\";Plotly.newPlot(\"a7fcf3c2-9faf-4854-83fa-252c9fcc04a6\", [{\"type\": \"scatter\", \"x\": [1, 2, 3, 4, 5], \"y\": [40.35483870967741, 45.512903225806454, 47.00000000000001, 48.00322580645162, 48.79354838709678], \"mode\": \"lines+markers\", \"name\": \"Validation Set\"}, {\"type\": \"scatter\", \"x\": [1, 2, 3, 4, 5], \"y\": [40.20322580645162, 45.6483870967742, 47.11612903225806, 47.954838709677425, 48.6741935483871], \"mode\": \"lines+markers\", \"name\": \"Training Set\"}], {\"title\": \"RNN Accuracy(Hidden layer= 50)\", \"xaxis\": {\"title\": \"# Of Epoch\"}, \"yaxis\": {\"title\": \"Accuracy\"}}, {\"showLink\": true, \"linkText\": \"Export to plot.ly\"})});</script>"
      ]
     },
     "metadata": {},
     "output_type": "display_data"
    }
   ],
   "source": [
    "trace0 = go.Scatter(\n",
    "    x = np.arange(5)+1,\n",
    "    y = val_acc,\n",
    "    mode = 'lines+markers',\n",
    "    name = 'Validation Set')\n",
    "    \n",
    "trace1 = go.Scatter(\n",
    "    x = np.arange(5)+1,\n",
    "    y = train_acc,\n",
    "    mode = 'lines+markers',\n",
    "    name = 'Training Set')\n",
    "    \n",
    "data = [trace0, trace1]\n",
    "\n",
    "layout = dict(title = 'RNN Accuracy(Hidden layer= 50)',\n",
    "              xaxis = dict(title = '# Of Epoch'),\n",
    "              yaxis = dict(title = 'Accuracy'),\n",
    "              )\n",
    "\n",
    "fig = go.Figure(data=data, layout=layout)\n",
    "offline.iplot(fig, filename='angled-text-bar')"
   ]
  },
  {
   "cell_type": "code",
   "execution_count": 11,
   "metadata": {},
   "outputs": [
    {
     "data": {
      "application/vnd.plotly.v1+json": {
       "data": [
        {
         "mode": "lines+markers",
         "name": "Validation Set",
         "type": "scatter",
         "x": [
          0,
          100,
          200,
          300,
          400,
          500,
          600,
          700,
          800,
          900,
          1000,
          1100,
          1200,
          1300,
          1400,
          1500,
          1600,
          1700,
          1800,
          1900,
          2000,
          2100,
          2200,
          2300,
          2400,
          2500,
          2600,
          2700,
          2800,
          2900,
          3000
         ],
         "y": [
          0.3424,
          0.1708,
          0.11400000000000002,
          0.08536,
          0.06839999999999999,
          0.05702,
          0.04888000000000001,
          0.04268,
          0.03798,
          0.03412,
          0.03104,
          0.028459999999999996,
          0.02626,
          0.02436,
          0.02274,
          0.02128,
          0.02002,
          0.01892,
          0.01794,
          0.01702,
          0.016220000000000002,
          0.01544,
          0.014799999999999999,
          0.014180000000000002,
          0.01358,
          0.013059999999999999,
          0.012539999999999999,
          0.01212,
          0.0117,
          0.011280000000000002,
          0.01094
         ]
        },
        {
         "mode": "lines+markers",
         "name": "Training Set",
         "type": "scatter",
         "x": [
          0,
          100,
          200,
          300,
          400,
          500,
          600,
          700,
          800,
          900,
          1000,
          1100,
          1200,
          1300,
          1400,
          1500,
          1600,
          1700,
          1800,
          1900,
          2000,
          2100,
          2200,
          2300,
          2400,
          2500,
          2600,
          2700,
          2800,
          2900,
          3000
         ],
         "y": [
          1.272,
          0.5286,
          0.35219999999999996,
          0.264,
          0.2102,
          0.1756,
          0.1504,
          0.1312,
          0.11599999999999999,
          0.1046,
          0.09530000000000001,
          0.08714000000000001,
          0.08071999999999999,
          0.07433999999999999,
          0.06916,
          0.06488000000000001,
          0.0615,
          0.05774,
          0.054979999999999994,
          0.051980000000000005,
          0.04954000000000001,
          0.04728,
          0.04517999999999999,
          0.0434,
          0.04156,
          0.0399,
          0.03824,
          0.03696,
          0.0357,
          0.034519999999999995,
          0.033280000000000004
         ]
        }
       ],
       "layout": {
        "title": "RNN Accuracy(Hidden layer= 50)",
        "xaxis": {
         "title": "# Of Iterations"
        },
        "yaxis": {
         "title": "Loss"
        }
       }
      },
      "text/html": [
       "<div id=\"31b6b0c9-e601-4028-87f6-c7380f797732\" style=\"height: 525px; width: 100%;\" class=\"plotly-graph-div\"></div><script type=\"text/javascript\">require([\"plotly\"], function(Plotly) { window.PLOTLYENV=window.PLOTLYENV || {};window.PLOTLYENV.BASE_URL=\"https://plot.ly\";Plotly.newPlot(\"31b6b0c9-e601-4028-87f6-c7380f797732\", [{\"type\": \"scatter\", \"x\": [0, 100, 200, 300, 400, 500, 600, 700, 800, 900, 1000, 1100, 1200, 1300, 1400, 1500, 1600, 1700, 1800, 1900, 2000, 2100, 2200, 2300, 2400, 2500, 2600, 2700, 2800, 2900, 3000], \"y\": [0.3424, 0.1708, 0.11400000000000002, 0.08536, 0.06839999999999999, 0.05702, 0.04888000000000001, 0.04268, 0.03798, 0.03412, 0.03104, 0.028459999999999996, 0.02626, 0.02436, 0.02274, 0.02128, 0.02002, 0.01892, 0.01794, 0.01702, 0.016220000000000002, 0.01544, 0.014799999999999999, 0.014180000000000002, 0.01358, 0.013059999999999999, 0.012539999999999999, 0.01212, 0.0117, 0.011280000000000002, 0.01094], \"mode\": \"lines+markers\", \"name\": \"Validation Set\"}, {\"type\": \"scatter\", \"x\": [0, 100, 200, 300, 400, 500, 600, 700, 800, 900, 1000, 1100, 1200, 1300, 1400, 1500, 1600, 1700, 1800, 1900, 2000, 2100, 2200, 2300, 2400, 2500, 2600, 2700, 2800, 2900, 3000], \"y\": [1.272, 0.5286, 0.35219999999999996, 0.264, 0.2102, 0.1756, 0.1504, 0.1312, 0.11599999999999999, 0.1046, 0.09530000000000001, 0.08714000000000001, 0.08071999999999999, 0.07433999999999999, 0.06916, 0.06488000000000001, 0.0615, 0.05774, 0.054979999999999994, 0.051980000000000005, 0.04954000000000001, 0.04728, 0.04517999999999999, 0.0434, 0.04156, 0.0399, 0.03824, 0.03696, 0.0357, 0.034519999999999995, 0.033280000000000004], \"mode\": \"lines+markers\", \"name\": \"Training Set\"}], {\"title\": \"RNN Accuracy(Hidden layer= 50)\", \"xaxis\": {\"title\": \"# Of Iterations\"}, \"yaxis\": {\"title\": \"Loss\"}}, {\"showLink\": true, \"linkText\": \"Export to plot.ly\"})});</script>"
      ],
      "text/vnd.plotly.v1+html": [
       "<div id=\"31b6b0c9-e601-4028-87f6-c7380f797732\" style=\"height: 525px; width: 100%;\" class=\"plotly-graph-div\"></div><script type=\"text/javascript\">require([\"plotly\"], function(Plotly) { window.PLOTLYENV=window.PLOTLYENV || {};window.PLOTLYENV.BASE_URL=\"https://plot.ly\";Plotly.newPlot(\"31b6b0c9-e601-4028-87f6-c7380f797732\", [{\"type\": \"scatter\", \"x\": [0, 100, 200, 300, 400, 500, 600, 700, 800, 900, 1000, 1100, 1200, 1300, 1400, 1500, 1600, 1700, 1800, 1900, 2000, 2100, 2200, 2300, 2400, 2500, 2600, 2700, 2800, 2900, 3000], \"y\": [0.3424, 0.1708, 0.11400000000000002, 0.08536, 0.06839999999999999, 0.05702, 0.04888000000000001, 0.04268, 0.03798, 0.03412, 0.03104, 0.028459999999999996, 0.02626, 0.02436, 0.02274, 0.02128, 0.02002, 0.01892, 0.01794, 0.01702, 0.016220000000000002, 0.01544, 0.014799999999999999, 0.014180000000000002, 0.01358, 0.013059999999999999, 0.012539999999999999, 0.01212, 0.0117, 0.011280000000000002, 0.01094], \"mode\": \"lines+markers\", \"name\": \"Validation Set\"}, {\"type\": \"scatter\", \"x\": [0, 100, 200, 300, 400, 500, 600, 700, 800, 900, 1000, 1100, 1200, 1300, 1400, 1500, 1600, 1700, 1800, 1900, 2000, 2100, 2200, 2300, 2400, 2500, 2600, 2700, 2800, 2900, 3000], \"y\": [1.272, 0.5286, 0.35219999999999996, 0.264, 0.2102, 0.1756, 0.1504, 0.1312, 0.11599999999999999, 0.1046, 0.09530000000000001, 0.08714000000000001, 0.08071999999999999, 0.07433999999999999, 0.06916, 0.06488000000000001, 0.0615, 0.05774, 0.054979999999999994, 0.051980000000000005, 0.04954000000000001, 0.04728, 0.04517999999999999, 0.0434, 0.04156, 0.0399, 0.03824, 0.03696, 0.0357, 0.034519999999999995, 0.033280000000000004], \"mode\": \"lines+markers\", \"name\": \"Training Set\"}], {\"title\": \"RNN Accuracy(Hidden layer= 50)\", \"xaxis\": {\"title\": \"# Of Iterations\"}, \"yaxis\": {\"title\": \"Loss\"}}, {\"showLink\": true, \"linkText\": \"Export to plot.ly\"})});</script>"
      ]
     },
     "metadata": {},
     "output_type": "display_data"
    }
   ],
   "source": [
    "trace0 = go.Scatter(\n",
    "    x = np.arange(31) * 100,\n",
    "    y = val_loss,\n",
    "    mode = 'lines+markers',\n",
    "    name = 'Validation Set')\n",
    "    \n",
    "trace1 = go.Scatter(\n",
    "    x = np.arange(31) * 100,\n",
    "    y = train_loss,\n",
    "    mode = 'lines+markers',\n",
    "    name = 'Training Set')\n",
    "    \n",
    "data = [trace0, trace1]\n",
    "\n",
    "layout = dict(title = 'RNN Accuracy(Hidden layer= 50)',\n",
    "              xaxis = dict(title = '# Of Iterations'),\n",
    "              yaxis = dict(title = 'Loss'),\n",
    "              )\n",
    "\n",
    "fig = go.Figure(data=data, layout=layout)\n",
    "offline.iplot(fig, filename='angled-text-bar')"
   ]
  },
  {
   "cell_type": "code",
   "execution_count": 12,
   "metadata": {},
   "outputs": [],
   "source": [
    "rnn100=np.loadtxt(\"RNN-100-Hidden.csv\", delimiter=',')\n",
    "val_acc=np.mean(rnn100[:,0].reshape(5,31), axis =1).tolist()\n",
    "val_loss=np.mean(rnn100[:,1].reshape(5,31), axis =0).tolist()\n",
    "train_acc=np.mean(rnn100[:,2].reshape(5,31), axis =1).tolist()\n",
    "train_loss=np.mean(rnn100[:,3].reshape(5,31), axis =0).tolist()"
   ]
  },
  {
   "cell_type": "code",
   "execution_count": 13,
   "metadata": {},
   "outputs": [
    {
     "data": {
      "application/vnd.plotly.v1+json": {
       "data": [
        {
         "mode": "lines+markers",
         "name": "Validation Set",
         "type": "scatter",
         "x": [
          1,
          2,
          3,
          4,
          5
         ],
         "y": [
          41.28709677419356,
          46.84838709677419,
          47.44193548387097,
          48.58387096774193,
          49.0774193548387
         ]
        },
        {
         "mode": "lines+markers",
         "name": "Training Set",
         "type": "scatter",
         "x": [
          1,
          2,
          3,
          4,
          5
         ],
         "y": [
          42.10645161290323,
          47.629032258064505,
          48.470967741935475,
          49.50645161290323,
          50.41612903225808
         ]
        }
       ],
       "layout": {
        "title": "RNN Accuracy(Hidden layer= 100)",
        "xaxis": {
         "title": "# Of Epoch"
        },
        "yaxis": {
         "title": "Accuracy"
        }
       }
      },
      "text/html": [
       "<div id=\"9ed806a3-8706-4d95-b9bf-10a9f51fb414\" style=\"height: 525px; width: 100%;\" class=\"plotly-graph-div\"></div><script type=\"text/javascript\">require([\"plotly\"], function(Plotly) { window.PLOTLYENV=window.PLOTLYENV || {};window.PLOTLYENV.BASE_URL=\"https://plot.ly\";Plotly.newPlot(\"9ed806a3-8706-4d95-b9bf-10a9f51fb414\", [{\"type\": \"scatter\", \"x\": [1, 2, 3, 4, 5], \"y\": [41.28709677419356, 46.84838709677419, 47.44193548387097, 48.58387096774193, 49.0774193548387], \"mode\": \"lines+markers\", \"name\": \"Validation Set\"}, {\"type\": \"scatter\", \"x\": [1, 2, 3, 4, 5], \"y\": [42.10645161290323, 47.629032258064505, 48.470967741935475, 49.50645161290323, 50.41612903225808], \"mode\": \"lines+markers\", \"name\": \"Training Set\"}], {\"title\": \"RNN Accuracy(Hidden layer= 100)\", \"xaxis\": {\"title\": \"# Of Epoch\"}, \"yaxis\": {\"title\": \"Accuracy\"}}, {\"showLink\": true, \"linkText\": \"Export to plot.ly\"})});</script>"
      ],
      "text/vnd.plotly.v1+html": [
       "<div id=\"9ed806a3-8706-4d95-b9bf-10a9f51fb414\" style=\"height: 525px; width: 100%;\" class=\"plotly-graph-div\"></div><script type=\"text/javascript\">require([\"plotly\"], function(Plotly) { window.PLOTLYENV=window.PLOTLYENV || {};window.PLOTLYENV.BASE_URL=\"https://plot.ly\";Plotly.newPlot(\"9ed806a3-8706-4d95-b9bf-10a9f51fb414\", [{\"type\": \"scatter\", \"x\": [1, 2, 3, 4, 5], \"y\": [41.28709677419356, 46.84838709677419, 47.44193548387097, 48.58387096774193, 49.0774193548387], \"mode\": \"lines+markers\", \"name\": \"Validation Set\"}, {\"type\": \"scatter\", \"x\": [1, 2, 3, 4, 5], \"y\": [42.10645161290323, 47.629032258064505, 48.470967741935475, 49.50645161290323, 50.41612903225808], \"mode\": \"lines+markers\", \"name\": \"Training Set\"}], {\"title\": \"RNN Accuracy(Hidden layer= 100)\", \"xaxis\": {\"title\": \"# Of Epoch\"}, \"yaxis\": {\"title\": \"Accuracy\"}}, {\"showLink\": true, \"linkText\": \"Export to plot.ly\"})});</script>"
      ]
     },
     "metadata": {},
     "output_type": "display_data"
    }
   ],
   "source": [
    "trace0 = go.Scatter(\n",
    "    x = np.arange(5)+1,\n",
    "    y = val_acc,\n",
    "    mode = 'lines+markers',\n",
    "    name = 'Validation Set')\n",
    "    \n",
    "trace1 = go.Scatter(\n",
    "    x = np.arange(5)+1,\n",
    "    y = train_acc,\n",
    "    mode = 'lines+markers',\n",
    "    name = 'Training Set')\n",
    "    \n",
    "data = [trace0, trace1]\n",
    "\n",
    "layout = dict(title = 'RNN Accuracy(Hidden layer= 100)',\n",
    "              xaxis = dict(title = '# Of Epoch'),\n",
    "              yaxis = dict(title = 'Accuracy'),\n",
    "              )\n",
    "\n",
    "fig = go.Figure(data=data, layout=layout)\n",
    "offline.iplot(fig, filename='angled-text-bar')"
   ]
  },
  {
   "cell_type": "code",
   "execution_count": 14,
   "metadata": {},
   "outputs": [
    {
     "data": {
      "application/vnd.plotly.v1+json": {
       "data": [
        {
         "mode": "lines+markers",
         "name": "Validation Set",
         "type": "scatter",
         "x": [
          0,
          100,
          200,
          300,
          400,
          500,
          600,
          700,
          800,
          900,
          1000,
          1100,
          1200,
          1300,
          1400,
          1500,
          1600,
          1700,
          1800,
          1900,
          2000,
          2100,
          2200,
          2300,
          2400,
          2500,
          2600,
          2700,
          2800,
          2900,
          3000
         ],
         "y": [
          0.34120000000000006,
          0.17040000000000002,
          0.1136,
          0.08516,
          0.06815999999999998,
          0.056799999999999996,
          0.048819999999999995,
          0.04268,
          0.03786,
          0.03406,
          0.0309,
          0.028300000000000002,
          0.026080000000000002,
          0.024239999999999998,
          0.02264,
          0.02122,
          0.01996,
          0.018819999999999996,
          0.01776,
          0.016939999999999997,
          0.01614,
          0.01538,
          0.01472,
          0.014100000000000001,
          0.01356,
          0.01298,
          0.0125,
          0.012079999999999999,
          0.01168,
          0.01128,
          0.010920000000000001
         ]
        },
        {
         "mode": "lines+markers",
         "name": "Training Set",
         "type": "scatter",
         "x": [
          0,
          100,
          200,
          300,
          400,
          500,
          600,
          700,
          800,
          900,
          1000,
          1100,
          1200,
          1300,
          1400,
          1500,
          1600,
          1700,
          1800,
          1900,
          2000,
          2100,
          2200,
          2300,
          2400,
          2500,
          2600,
          2700,
          2800,
          2900,
          3000
         ],
         "y": [
          1.264,
          0.5244,
          0.3486,
          0.26239999999999997,
          0.209,
          0.17460000000000003,
          0.1494,
          0.1302,
          0.11539999999999999,
          0.1036,
          0.09452,
          0.08620000000000001,
          0.07970000000000001,
          0.07394,
          0.06920000000000001,
          0.0643,
          0.060320000000000006,
          0.05734,
          0.054279999999999995,
          0.05162,
          0.04936,
          0.04696,
          0.04479999999999999,
          0.04284,
          0.0409,
          0.0397,
          0.038180000000000006,
          0.036539999999999996,
          0.03544,
          0.034460000000000005,
          0.03321999999999999
         ]
        }
       ],
       "layout": {
        "title": "RNN Accuracy(Hidden layer= 100)",
        "xaxis": {
         "title": "# Of Iterations"
        },
        "yaxis": {
         "title": "Loss"
        }
       }
      },
      "text/html": [
       "<div id=\"5814e71a-c357-446e-8e22-acc6e46f51ee\" style=\"height: 525px; width: 100%;\" class=\"plotly-graph-div\"></div><script type=\"text/javascript\">require([\"plotly\"], function(Plotly) { window.PLOTLYENV=window.PLOTLYENV || {};window.PLOTLYENV.BASE_URL=\"https://plot.ly\";Plotly.newPlot(\"5814e71a-c357-446e-8e22-acc6e46f51ee\", [{\"type\": \"scatter\", \"x\": [0, 100, 200, 300, 400, 500, 600, 700, 800, 900, 1000, 1100, 1200, 1300, 1400, 1500, 1600, 1700, 1800, 1900, 2000, 2100, 2200, 2300, 2400, 2500, 2600, 2700, 2800, 2900, 3000], \"y\": [0.34120000000000006, 0.17040000000000002, 0.1136, 0.08516, 0.06815999999999998, 0.056799999999999996, 0.048819999999999995, 0.04268, 0.03786, 0.03406, 0.0309, 0.028300000000000002, 0.026080000000000002, 0.024239999999999998, 0.02264, 0.02122, 0.01996, 0.018819999999999996, 0.01776, 0.016939999999999997, 0.01614, 0.01538, 0.01472, 0.014100000000000001, 0.01356, 0.01298, 0.0125, 0.012079999999999999, 0.01168, 0.01128, 0.010920000000000001], \"mode\": \"lines+markers\", \"name\": \"Validation Set\"}, {\"type\": \"scatter\", \"x\": [0, 100, 200, 300, 400, 500, 600, 700, 800, 900, 1000, 1100, 1200, 1300, 1400, 1500, 1600, 1700, 1800, 1900, 2000, 2100, 2200, 2300, 2400, 2500, 2600, 2700, 2800, 2900, 3000], \"y\": [1.264, 0.5244, 0.3486, 0.26239999999999997, 0.209, 0.17460000000000003, 0.1494, 0.1302, 0.11539999999999999, 0.1036, 0.09452, 0.08620000000000001, 0.07970000000000001, 0.07394, 0.06920000000000001, 0.0643, 0.060320000000000006, 0.05734, 0.054279999999999995, 0.05162, 0.04936, 0.04696, 0.04479999999999999, 0.04284, 0.0409, 0.0397, 0.038180000000000006, 0.036539999999999996, 0.03544, 0.034460000000000005, 0.03321999999999999], \"mode\": \"lines+markers\", \"name\": \"Training Set\"}], {\"title\": \"RNN Accuracy(Hidden layer= 100)\", \"xaxis\": {\"title\": \"# Of Iterations\"}, \"yaxis\": {\"title\": \"Loss\"}}, {\"showLink\": true, \"linkText\": \"Export to plot.ly\"})});</script>"
      ],
      "text/vnd.plotly.v1+html": [
       "<div id=\"5814e71a-c357-446e-8e22-acc6e46f51ee\" style=\"height: 525px; width: 100%;\" class=\"plotly-graph-div\"></div><script type=\"text/javascript\">require([\"plotly\"], function(Plotly) { window.PLOTLYENV=window.PLOTLYENV || {};window.PLOTLYENV.BASE_URL=\"https://plot.ly\";Plotly.newPlot(\"5814e71a-c357-446e-8e22-acc6e46f51ee\", [{\"type\": \"scatter\", \"x\": [0, 100, 200, 300, 400, 500, 600, 700, 800, 900, 1000, 1100, 1200, 1300, 1400, 1500, 1600, 1700, 1800, 1900, 2000, 2100, 2200, 2300, 2400, 2500, 2600, 2700, 2800, 2900, 3000], \"y\": [0.34120000000000006, 0.17040000000000002, 0.1136, 0.08516, 0.06815999999999998, 0.056799999999999996, 0.048819999999999995, 0.04268, 0.03786, 0.03406, 0.0309, 0.028300000000000002, 0.026080000000000002, 0.024239999999999998, 0.02264, 0.02122, 0.01996, 0.018819999999999996, 0.01776, 0.016939999999999997, 0.01614, 0.01538, 0.01472, 0.014100000000000001, 0.01356, 0.01298, 0.0125, 0.012079999999999999, 0.01168, 0.01128, 0.010920000000000001], \"mode\": \"lines+markers\", \"name\": \"Validation Set\"}, {\"type\": \"scatter\", \"x\": [0, 100, 200, 300, 400, 500, 600, 700, 800, 900, 1000, 1100, 1200, 1300, 1400, 1500, 1600, 1700, 1800, 1900, 2000, 2100, 2200, 2300, 2400, 2500, 2600, 2700, 2800, 2900, 3000], \"y\": [1.264, 0.5244, 0.3486, 0.26239999999999997, 0.209, 0.17460000000000003, 0.1494, 0.1302, 0.11539999999999999, 0.1036, 0.09452, 0.08620000000000001, 0.07970000000000001, 0.07394, 0.06920000000000001, 0.0643, 0.060320000000000006, 0.05734, 0.054279999999999995, 0.05162, 0.04936, 0.04696, 0.04479999999999999, 0.04284, 0.0409, 0.0397, 0.038180000000000006, 0.036539999999999996, 0.03544, 0.034460000000000005, 0.03321999999999999], \"mode\": \"lines+markers\", \"name\": \"Training Set\"}], {\"title\": \"RNN Accuracy(Hidden layer= 100)\", \"xaxis\": {\"title\": \"# Of Iterations\"}, \"yaxis\": {\"title\": \"Loss\"}}, {\"showLink\": true, \"linkText\": \"Export to plot.ly\"})});</script>"
      ]
     },
     "metadata": {},
     "output_type": "display_data"
    }
   ],
   "source": [
    "trace0 = go.Scatter(\n",
    "    x = np.arange(31) * 100,\n",
    "    y = val_loss,\n",
    "    mode = 'lines+markers',\n",
    "    name = 'Validation Set')\n",
    "    \n",
    "trace1 = go.Scatter(\n",
    "    x = np.arange(31) * 100,\n",
    "    y = train_loss,\n",
    "    mode = 'lines+markers',\n",
    "    name = 'Training Set')\n",
    "    \n",
    "data = [trace0, trace1]\n",
    "\n",
    "layout = dict(title = 'RNN Accuracy(Hidden layer= 100)',\n",
    "              xaxis = dict(title = '# Of Iterations'),\n",
    "              yaxis = dict(title = 'Loss'),\n",
    "              )\n",
    "\n",
    "fig = go.Figure(data=data, layout=layout)\n",
    "offline.iplot(fig, filename='angled-text-bar')"
   ]
  },
  {
   "cell_type": "code",
   "execution_count": 15,
   "metadata": {},
   "outputs": [],
   "source": [
    "rnn100_d=np.loadtxt(\"RNN-100-Hidden-Weight_Decay.csv\", delimiter=',')\n",
    "val_acc=np.mean(rnn100_d[:,0].reshape(5,31), axis =1).tolist()\n",
    "val_loss=np.mean(rnn100_d[:,1].reshape(5,31), axis =0).tolist()\n",
    "train_acc=np.mean(rnn100_d[:,2].reshape(5,31), axis =1).tolist()\n",
    "train_loss=np.mean(rnn100_d[:,3].reshape(5,31), axis =0).tolist()"
   ]
  },
  {
   "cell_type": "code",
   "execution_count": 16,
   "metadata": {},
   "outputs": [
    {
     "data": {
      "application/vnd.plotly.v1+json": {
       "data": [
        {
         "mode": "lines+markers",
         "name": "Validation Set",
         "type": "scatter",
         "x": [
          1,
          2,
          3,
          4,
          5
         ],
         "y": [
          36.71290322580645,
          36.68709677419355,
          35.15483870967742,
          34.80645161290323,
          34.567741935483866
         ]
        },
        {
         "mode": "lines+markers",
         "name": "Training Set",
         "type": "scatter",
         "x": [
          1,
          2,
          3,
          4,
          5
         ],
         "y": [
          37.34193548387097,
          37.49677419354838,
          35.44838709677419,
          35.29677419354839,
          35.65806451612903
         ]
        }
       ],
       "layout": {
        "title": "RNN Accuracy(Hidden layer= 100) with Weight Decaying",
        "xaxis": {
         "title": "# Of Epoch"
        },
        "yaxis": {
         "title": "Accuracy"
        }
       }
      },
      "text/html": [
       "<div id=\"a4ee5974-ed40-40dd-af7b-88b8e7c1b9d1\" style=\"height: 525px; width: 100%;\" class=\"plotly-graph-div\"></div><script type=\"text/javascript\">require([\"plotly\"], function(Plotly) { window.PLOTLYENV=window.PLOTLYENV || {};window.PLOTLYENV.BASE_URL=\"https://plot.ly\";Plotly.newPlot(\"a4ee5974-ed40-40dd-af7b-88b8e7c1b9d1\", [{\"type\": \"scatter\", \"x\": [1, 2, 3, 4, 5], \"y\": [36.71290322580645, 36.68709677419355, 35.15483870967742, 34.80645161290323, 34.567741935483866], \"mode\": \"lines+markers\", \"name\": \"Validation Set\"}, {\"type\": \"scatter\", \"x\": [1, 2, 3, 4, 5], \"y\": [37.34193548387097, 37.49677419354838, 35.44838709677419, 35.29677419354839, 35.65806451612903], \"mode\": \"lines+markers\", \"name\": \"Training Set\"}], {\"title\": \"RNN Accuracy(Hidden layer= 100) with Weight Decaying\", \"xaxis\": {\"title\": \"# Of Epoch\"}, \"yaxis\": {\"title\": \"Accuracy\"}}, {\"showLink\": true, \"linkText\": \"Export to plot.ly\"})});</script>"
      ],
      "text/vnd.plotly.v1+html": [
       "<div id=\"a4ee5974-ed40-40dd-af7b-88b8e7c1b9d1\" style=\"height: 525px; width: 100%;\" class=\"plotly-graph-div\"></div><script type=\"text/javascript\">require([\"plotly\"], function(Plotly) { window.PLOTLYENV=window.PLOTLYENV || {};window.PLOTLYENV.BASE_URL=\"https://plot.ly\";Plotly.newPlot(\"a4ee5974-ed40-40dd-af7b-88b8e7c1b9d1\", [{\"type\": \"scatter\", \"x\": [1, 2, 3, 4, 5], \"y\": [36.71290322580645, 36.68709677419355, 35.15483870967742, 34.80645161290323, 34.567741935483866], \"mode\": \"lines+markers\", \"name\": \"Validation Set\"}, {\"type\": \"scatter\", \"x\": [1, 2, 3, 4, 5], \"y\": [37.34193548387097, 37.49677419354838, 35.44838709677419, 35.29677419354839, 35.65806451612903], \"mode\": \"lines+markers\", \"name\": \"Training Set\"}], {\"title\": \"RNN Accuracy(Hidden layer= 100) with Weight Decaying\", \"xaxis\": {\"title\": \"# Of Epoch\"}, \"yaxis\": {\"title\": \"Accuracy\"}}, {\"showLink\": true, \"linkText\": \"Export to plot.ly\"})});</script>"
      ]
     },
     "metadata": {},
     "output_type": "display_data"
    }
   ],
   "source": [
    "trace0 = go.Scatter(\n",
    "    x = np.arange(5)+1,\n",
    "    y = val_acc,\n",
    "    mode = 'lines+markers',\n",
    "    name = 'Validation Set')\n",
    "    \n",
    "trace1 = go.Scatter(\n",
    "    x = np.arange(5)+1,\n",
    "    y = train_acc,\n",
    "    mode = 'lines+markers',\n",
    "    name = 'Training Set')\n",
    "    \n",
    "data = [trace0, trace1]\n",
    "\n",
    "layout = dict(title = 'RNN Accuracy(Hidden layer= 100) with Weight Decaying',\n",
    "              xaxis = dict(title = '# Of Epoch'),\n",
    "              yaxis = dict(title = 'Accuracy'),\n",
    "              )\n",
    "\n",
    "fig = go.Figure(data=data, layout=layout)\n",
    "offline.iplot(fig, filename='angled-text-bar')"
   ]
  },
  {
   "cell_type": "code",
   "execution_count": 17,
   "metadata": {},
   "outputs": [
    {
     "data": {
      "application/vnd.plotly.v1+json": {
       "data": [
        {
         "mode": "lines+markers",
         "name": "Validation Set",
         "type": "scatter",
         "x": [
          0,
          100,
          200,
          300,
          400,
          500,
          600,
          700,
          800,
          900,
          1000,
          1100,
          1200,
          1300,
          1400,
          1500,
          1600,
          1700,
          1800,
          1900,
          2000,
          2100,
          2200,
          2300,
          2400,
          2500,
          2600,
          2700,
          2800,
          2900,
          3000
         ],
         "y": [
          0.35059999999999997,
          0.17579999999999996,
          0.11700000000000002,
          0.08771999999999999,
          0.0702,
          0.05852,
          0.05014,
          0.04384,
          0.03898,
          0.03508,
          0.03192,
          0.02924,
          0.027000000000000003,
          0.02508,
          0.023400000000000004,
          0.021939999999999998,
          0.020679999999999997,
          0.0195,
          0.0185,
          0.017560000000000003,
          0.0167,
          0.01596,
          0.015279999999999998,
          0.01462,
          0.01402,
          0.013500000000000002,
          0.013000000000000001,
          0.0125,
          0.0121,
          0.0117,
          0.0113
         ]
        },
        {
         "mode": "lines+markers",
         "name": "Training Set",
         "type": "scatter",
         "x": [
          0,
          100,
          200,
          300,
          400,
          500,
          600,
          700,
          800,
          900,
          1000,
          1100,
          1200,
          1300,
          1400,
          1500,
          1600,
          1700,
          1800,
          1900,
          2000,
          2100,
          2200,
          2300,
          2400,
          2500,
          2600,
          2700,
          2800,
          2900,
          3000
         ],
         "y": [
          1.336,
          0.5516,
          0.36760000000000004,
          0.2752,
          0.22000000000000003,
          0.18360000000000004,
          0.157,
          0.137,
          0.122,
          0.11000000000000001,
          0.09962,
          0.09128,
          0.08426,
          0.07830000000000001,
          0.073,
          0.06852,
          0.0645,
          0.060860000000000004,
          0.057699999999999994,
          0.054759999999999996,
          0.052160000000000005,
          0.0498,
          0.047700000000000006,
          0.04564,
          0.04384,
          0.042100000000000005,
          0.04058,
          0.039180000000000006,
          0.03778,
          0.036539999999999996,
          0.03532
         ]
        }
       ],
       "layout": {
        "title": "RNN Accuracy(Hidden layer= 100)",
        "xaxis": {
         "title": "# Of Iterations"
        },
        "yaxis": {
         "title": "Loss"
        }
       }
      },
      "text/html": [
       "<div id=\"d521a909-4070-4a95-b506-eb3657d3e445\" style=\"height: 525px; width: 100%;\" class=\"plotly-graph-div\"></div><script type=\"text/javascript\">require([\"plotly\"], function(Plotly) { window.PLOTLYENV=window.PLOTLYENV || {};window.PLOTLYENV.BASE_URL=\"https://plot.ly\";Plotly.newPlot(\"d521a909-4070-4a95-b506-eb3657d3e445\", [{\"type\": \"scatter\", \"x\": [0, 100, 200, 300, 400, 500, 600, 700, 800, 900, 1000, 1100, 1200, 1300, 1400, 1500, 1600, 1700, 1800, 1900, 2000, 2100, 2200, 2300, 2400, 2500, 2600, 2700, 2800, 2900, 3000], \"y\": [0.35059999999999997, 0.17579999999999996, 0.11700000000000002, 0.08771999999999999, 0.0702, 0.05852, 0.05014, 0.04384, 0.03898, 0.03508, 0.03192, 0.02924, 0.027000000000000003, 0.02508, 0.023400000000000004, 0.021939999999999998, 0.020679999999999997, 0.0195, 0.0185, 0.017560000000000003, 0.0167, 0.01596, 0.015279999999999998, 0.01462, 0.01402, 0.013500000000000002, 0.013000000000000001, 0.0125, 0.0121, 0.0117, 0.0113], \"mode\": \"lines+markers\", \"name\": \"Validation Set\"}, {\"type\": \"scatter\", \"x\": [0, 100, 200, 300, 400, 500, 600, 700, 800, 900, 1000, 1100, 1200, 1300, 1400, 1500, 1600, 1700, 1800, 1900, 2000, 2100, 2200, 2300, 2400, 2500, 2600, 2700, 2800, 2900, 3000], \"y\": [1.336, 0.5516, 0.36760000000000004, 0.2752, 0.22000000000000003, 0.18360000000000004, 0.157, 0.137, 0.122, 0.11000000000000001, 0.09962, 0.09128, 0.08426, 0.07830000000000001, 0.073, 0.06852, 0.0645, 0.060860000000000004, 0.057699999999999994, 0.054759999999999996, 0.052160000000000005, 0.0498, 0.047700000000000006, 0.04564, 0.04384, 0.042100000000000005, 0.04058, 0.039180000000000006, 0.03778, 0.036539999999999996, 0.03532], \"mode\": \"lines+markers\", \"name\": \"Training Set\"}], {\"title\": \"RNN Accuracy(Hidden layer= 100)\", \"xaxis\": {\"title\": \"# Of Iterations\"}, \"yaxis\": {\"title\": \"Loss\"}}, {\"showLink\": true, \"linkText\": \"Export to plot.ly\"})});</script>"
      ],
      "text/vnd.plotly.v1+html": [
       "<div id=\"d521a909-4070-4a95-b506-eb3657d3e445\" style=\"height: 525px; width: 100%;\" class=\"plotly-graph-div\"></div><script type=\"text/javascript\">require([\"plotly\"], function(Plotly) { window.PLOTLYENV=window.PLOTLYENV || {};window.PLOTLYENV.BASE_URL=\"https://plot.ly\";Plotly.newPlot(\"d521a909-4070-4a95-b506-eb3657d3e445\", [{\"type\": \"scatter\", \"x\": [0, 100, 200, 300, 400, 500, 600, 700, 800, 900, 1000, 1100, 1200, 1300, 1400, 1500, 1600, 1700, 1800, 1900, 2000, 2100, 2200, 2300, 2400, 2500, 2600, 2700, 2800, 2900, 3000], \"y\": [0.35059999999999997, 0.17579999999999996, 0.11700000000000002, 0.08771999999999999, 0.0702, 0.05852, 0.05014, 0.04384, 0.03898, 0.03508, 0.03192, 0.02924, 0.027000000000000003, 0.02508, 0.023400000000000004, 0.021939999999999998, 0.020679999999999997, 0.0195, 0.0185, 0.017560000000000003, 0.0167, 0.01596, 0.015279999999999998, 0.01462, 0.01402, 0.013500000000000002, 0.013000000000000001, 0.0125, 0.0121, 0.0117, 0.0113], \"mode\": \"lines+markers\", \"name\": \"Validation Set\"}, {\"type\": \"scatter\", \"x\": [0, 100, 200, 300, 400, 500, 600, 700, 800, 900, 1000, 1100, 1200, 1300, 1400, 1500, 1600, 1700, 1800, 1900, 2000, 2100, 2200, 2300, 2400, 2500, 2600, 2700, 2800, 2900, 3000], \"y\": [1.336, 0.5516, 0.36760000000000004, 0.2752, 0.22000000000000003, 0.18360000000000004, 0.157, 0.137, 0.122, 0.11000000000000001, 0.09962, 0.09128, 0.08426, 0.07830000000000001, 0.073, 0.06852, 0.0645, 0.060860000000000004, 0.057699999999999994, 0.054759999999999996, 0.052160000000000005, 0.0498, 0.047700000000000006, 0.04564, 0.04384, 0.042100000000000005, 0.04058, 0.039180000000000006, 0.03778, 0.036539999999999996, 0.03532], \"mode\": \"lines+markers\", \"name\": \"Training Set\"}], {\"title\": \"RNN Accuracy(Hidden layer= 100)\", \"xaxis\": {\"title\": \"# Of Iterations\"}, \"yaxis\": {\"title\": \"Loss\"}}, {\"showLink\": true, \"linkText\": \"Export to plot.ly\"})});</script>"
      ]
     },
     "metadata": {},
     "output_type": "display_data"
    }
   ],
   "source": [
    "trace0 = go.Scatter(\n",
    "    x = np.arange(31) * 100,\n",
    "    y = val_loss,\n",
    "    mode = 'lines+markers',\n",
    "    name = 'Validation Set')\n",
    "    \n",
    "trace1 = go.Scatter(\n",
    "    x = np.arange(31) * 100,\n",
    "    y = train_loss,\n",
    "    mode = 'lines+markers',\n",
    "    name = 'Training Set')\n",
    "    \n",
    "data = [trace0, trace1]\n",
    "\n",
    "layout = dict(title = 'RNN Accuracy(Hidden layer= 100)',\n",
    "              xaxis = dict(title = '# Of Iterations'),\n",
    "              yaxis = dict(title = 'Loss'),\n",
    "              )\n",
    "\n",
    "fig = go.Figure(data=data, layout=layout)\n",
    "offline.iplot(fig, filename='angled-text-bar')"
   ]
  },
  {
   "cell_type": "code",
   "execution_count": 18,
   "metadata": {},
   "outputs": [],
   "source": [
    "cnn100_d=np.loadtxt(\"CNN-100-weight_deca2y-Hidden.csv\", delimiter=',')\n",
    "val_acc=np.mean(cnn100_d[:,0].reshape(5,31), axis =1).tolist()\n",
    "val_loss=np.mean(cnn100_d[:,1].reshape(5,31), axis =0).tolist()\n",
    "train_acc=np.mean(cnn100_d[:,2].reshape(5,31), axis =1).tolist()\n",
    "train_loss=np.mean(cnn100_d[:,3].reshape(5,31), axis =0).tolist()"
   ]
  },
  {
   "cell_type": "code",
   "execution_count": 20,
   "metadata": {},
   "outputs": [
    {
     "data": {
      "application/vnd.plotly.v1+json": {
       "data": [
        {
         "mode": "lines+markers",
         "name": "Validation Set",
         "type": "scatter",
         "x": [
          1,
          2,
          3,
          4,
          5
         ],
         "y": [
          34.44193548387097,
          34.71612903225807,
          33.59354838709677,
          33.21290322580646,
          33.25806451612903
         ]
        },
        {
         "mode": "lines+markers",
         "name": "Training Set",
         "type": "scatter",
         "x": [
          1,
          2,
          3,
          4,
          5
         ],
         "y": [
          34.064516129032256,
          35.15806451612904,
          33.774193548387096,
          33.17741935483871,
          33.225806451612904
         ]
        }
       ],
       "layout": {
        "title": "CNN Accuracy(Hidden layer= 100) with Weight Decaying",
        "xaxis": {
         "title": "# Of Epoch"
        },
        "yaxis": {
         "title": "Accuracy"
        }
       }
      },
      "text/html": [
       "<div id=\"a8464372-e23a-4f47-9a2b-4a9f62b1e4b6\" style=\"height: 525px; width: 100%;\" class=\"plotly-graph-div\"></div><script type=\"text/javascript\">require([\"plotly\"], function(Plotly) { window.PLOTLYENV=window.PLOTLYENV || {};window.PLOTLYENV.BASE_URL=\"https://plot.ly\";Plotly.newPlot(\"a8464372-e23a-4f47-9a2b-4a9f62b1e4b6\", [{\"type\": \"scatter\", \"x\": [1, 2, 3, 4, 5], \"y\": [34.44193548387097, 34.71612903225807, 33.59354838709677, 33.21290322580646, 33.25806451612903], \"mode\": \"lines+markers\", \"name\": \"Validation Set\"}, {\"type\": \"scatter\", \"x\": [1, 2, 3, 4, 5], \"y\": [34.064516129032256, 35.15806451612904, 33.774193548387096, 33.17741935483871, 33.225806451612904], \"mode\": \"lines+markers\", \"name\": \"Training Set\"}], {\"title\": \"CNN Accuracy(Hidden layer= 100) with Weight Decaying\", \"xaxis\": {\"title\": \"# Of Epoch\"}, \"yaxis\": {\"title\": \"Accuracy\"}}, {\"showLink\": true, \"linkText\": \"Export to plot.ly\"})});</script>"
      ],
      "text/vnd.plotly.v1+html": [
       "<div id=\"a8464372-e23a-4f47-9a2b-4a9f62b1e4b6\" style=\"height: 525px; width: 100%;\" class=\"plotly-graph-div\"></div><script type=\"text/javascript\">require([\"plotly\"], function(Plotly) { window.PLOTLYENV=window.PLOTLYENV || {};window.PLOTLYENV.BASE_URL=\"https://plot.ly\";Plotly.newPlot(\"a8464372-e23a-4f47-9a2b-4a9f62b1e4b6\", [{\"type\": \"scatter\", \"x\": [1, 2, 3, 4, 5], \"y\": [34.44193548387097, 34.71612903225807, 33.59354838709677, 33.21290322580646, 33.25806451612903], \"mode\": \"lines+markers\", \"name\": \"Validation Set\"}, {\"type\": \"scatter\", \"x\": [1, 2, 3, 4, 5], \"y\": [34.064516129032256, 35.15806451612904, 33.774193548387096, 33.17741935483871, 33.225806451612904], \"mode\": \"lines+markers\", \"name\": \"Training Set\"}], {\"title\": \"CNN Accuracy(Hidden layer= 100) with Weight Decaying\", \"xaxis\": {\"title\": \"# Of Epoch\"}, \"yaxis\": {\"title\": \"Accuracy\"}}, {\"showLink\": true, \"linkText\": \"Export to plot.ly\"})});</script>"
      ]
     },
     "metadata": {},
     "output_type": "display_data"
    }
   ],
   "source": [
    "trace0 = go.Scatter(\n",
    "    x = np.arange(5)+1,\n",
    "    y = val_acc,\n",
    "    mode = 'lines+markers',\n",
    "    name = 'Validation Set')\n",
    "    \n",
    "trace1 = go.Scatter(\n",
    "    x = np.arange(5)+1,\n",
    "    y = train_acc,\n",
    "    mode = 'lines+markers',\n",
    "    name = 'Training Set')\n",
    "    \n",
    "data = [trace0, trace1]\n",
    "\n",
    "layout = dict(title = 'CNN Accuracy(Hidden layer= 100) with Weight Decaying',\n",
    "              xaxis = dict(title = '# Of Epoch'),\n",
    "              yaxis = dict(title = 'Accuracy'),\n",
    "              )\n",
    "\n",
    "fig = go.Figure(data=data, layout=layout)\n",
    "offline.iplot(fig, filename='angled-text-bar')"
   ]
  },
  {
   "cell_type": "code",
   "execution_count": 21,
   "metadata": {},
   "outputs": [
    {
     "data": {
      "application/vnd.plotly.v1+json": {
       "data": [
        {
         "mode": "lines+markers",
         "name": "Validation Set",
         "type": "scatter",
         "x": [
          0,
          100,
          200,
          300,
          400,
          500,
          600,
          700,
          800,
          900,
          1000,
          1100,
          1200,
          1300,
          1400,
          1500,
          1600,
          1700,
          1800,
          1900,
          2000,
          2100,
          2200,
          2300,
          2400,
          2500,
          2600,
          2700,
          2800,
          2900,
          3000
         ],
         "y": [
          0.3515999999999999,
          0.176,
          0.11700000000000002,
          0.08783999999999999,
          0.07032000000000001,
          0.05858,
          0.0502,
          0.0439,
          0.0391,
          0.03518,
          0.03196,
          0.029279999999999994,
          0.027000000000000003,
          0.0251,
          0.0234,
          0.021979999999999993,
          0.0207,
          0.0195,
          0.0185,
          0.0176,
          0.0167,
          0.016,
          0.0153,
          0.01462,
          0.01408,
          0.013500000000000002,
          0.013000000000000001,
          0.01258,
          0.0121,
          0.0117,
          0.0113
         ]
        },
        {
         "mode": "lines+markers",
         "name": "Training Set",
         "type": "scatter",
         "x": [
          0,
          100,
          200,
          300,
          400,
          500,
          600,
          700,
          800,
          900,
          1000,
          1100,
          1200,
          1300,
          1400,
          1500,
          1600,
          1700,
          1800,
          1900,
          2000,
          2100,
          2200,
          2300,
          2400,
          2500,
          2600,
          2700,
          2800,
          2900,
          3000
         ],
         "y": [
          1.34,
          0.5529999999999999,
          0.3672000000000001,
          0.2756,
          0.2202,
          0.183,
          0.157,
          0.13720000000000002,
          0.122,
          0.11000000000000001,
          0.09976,
          0.09154000000000001,
          0.08442000000000001,
          0.07844000000000001,
          0.07322,
          0.06866,
          0.0646,
          0.06108,
          0.05776,
          0.05486,
          0.05226000000000001,
          0.05,
          0.04772,
          0.04576000000000001,
          0.04394,
          0.042260000000000006,
          0.040659999999999995,
          0.0392,
          0.0379,
          0.036579999999999994,
          0.03541999999999999
         ]
        }
       ],
       "layout": {
        "title": "RNN Accuracy(Hidden layer= 100) With Weight Decaying",
        "xaxis": {
         "title": "# Of Iterations"
        },
        "yaxis": {
         "title": "Loss"
        }
       }
      },
      "text/html": [
       "<div id=\"05fc5534-acbe-4c8a-945e-868f3e02cf77\" style=\"height: 525px; width: 100%;\" class=\"plotly-graph-div\"></div><script type=\"text/javascript\">require([\"plotly\"], function(Plotly) { window.PLOTLYENV=window.PLOTLYENV || {};window.PLOTLYENV.BASE_URL=\"https://plot.ly\";Plotly.newPlot(\"05fc5534-acbe-4c8a-945e-868f3e02cf77\", [{\"type\": \"scatter\", \"x\": [0, 100, 200, 300, 400, 500, 600, 700, 800, 900, 1000, 1100, 1200, 1300, 1400, 1500, 1600, 1700, 1800, 1900, 2000, 2100, 2200, 2300, 2400, 2500, 2600, 2700, 2800, 2900, 3000], \"y\": [0.3515999999999999, 0.176, 0.11700000000000002, 0.08783999999999999, 0.07032000000000001, 0.05858, 0.0502, 0.0439, 0.0391, 0.03518, 0.03196, 0.029279999999999994, 0.027000000000000003, 0.0251, 0.0234, 0.021979999999999993, 0.0207, 0.0195, 0.0185, 0.0176, 0.0167, 0.016, 0.0153, 0.01462, 0.01408, 0.013500000000000002, 0.013000000000000001, 0.01258, 0.0121, 0.0117, 0.0113], \"mode\": \"lines+markers\", \"name\": \"Validation Set\"}, {\"type\": \"scatter\", \"x\": [0, 100, 200, 300, 400, 500, 600, 700, 800, 900, 1000, 1100, 1200, 1300, 1400, 1500, 1600, 1700, 1800, 1900, 2000, 2100, 2200, 2300, 2400, 2500, 2600, 2700, 2800, 2900, 3000], \"y\": [1.34, 0.5529999999999999, 0.3672000000000001, 0.2756, 0.2202, 0.183, 0.157, 0.13720000000000002, 0.122, 0.11000000000000001, 0.09976, 0.09154000000000001, 0.08442000000000001, 0.07844000000000001, 0.07322, 0.06866, 0.0646, 0.06108, 0.05776, 0.05486, 0.05226000000000001, 0.05, 0.04772, 0.04576000000000001, 0.04394, 0.042260000000000006, 0.040659999999999995, 0.0392, 0.0379, 0.036579999999999994, 0.03541999999999999], \"mode\": \"lines+markers\", \"name\": \"Training Set\"}], {\"title\": \"RNN Accuracy(Hidden layer= 100) With Weight Decaying\", \"xaxis\": {\"title\": \"# Of Iterations\"}, \"yaxis\": {\"title\": \"Loss\"}}, {\"showLink\": true, \"linkText\": \"Export to plot.ly\"})});</script>"
      ],
      "text/vnd.plotly.v1+html": [
       "<div id=\"05fc5534-acbe-4c8a-945e-868f3e02cf77\" style=\"height: 525px; width: 100%;\" class=\"plotly-graph-div\"></div><script type=\"text/javascript\">require([\"plotly\"], function(Plotly) { window.PLOTLYENV=window.PLOTLYENV || {};window.PLOTLYENV.BASE_URL=\"https://plot.ly\";Plotly.newPlot(\"05fc5534-acbe-4c8a-945e-868f3e02cf77\", [{\"type\": \"scatter\", \"x\": [0, 100, 200, 300, 400, 500, 600, 700, 800, 900, 1000, 1100, 1200, 1300, 1400, 1500, 1600, 1700, 1800, 1900, 2000, 2100, 2200, 2300, 2400, 2500, 2600, 2700, 2800, 2900, 3000], \"y\": [0.3515999999999999, 0.176, 0.11700000000000002, 0.08783999999999999, 0.07032000000000001, 0.05858, 0.0502, 0.0439, 0.0391, 0.03518, 0.03196, 0.029279999999999994, 0.027000000000000003, 0.0251, 0.0234, 0.021979999999999993, 0.0207, 0.0195, 0.0185, 0.0176, 0.0167, 0.016, 0.0153, 0.01462, 0.01408, 0.013500000000000002, 0.013000000000000001, 0.01258, 0.0121, 0.0117, 0.0113], \"mode\": \"lines+markers\", \"name\": \"Validation Set\"}, {\"type\": \"scatter\", \"x\": [0, 100, 200, 300, 400, 500, 600, 700, 800, 900, 1000, 1100, 1200, 1300, 1400, 1500, 1600, 1700, 1800, 1900, 2000, 2100, 2200, 2300, 2400, 2500, 2600, 2700, 2800, 2900, 3000], \"y\": [1.34, 0.5529999999999999, 0.3672000000000001, 0.2756, 0.2202, 0.183, 0.157, 0.13720000000000002, 0.122, 0.11000000000000001, 0.09976, 0.09154000000000001, 0.08442000000000001, 0.07844000000000001, 0.07322, 0.06866, 0.0646, 0.06108, 0.05776, 0.05486, 0.05226000000000001, 0.05, 0.04772, 0.04576000000000001, 0.04394, 0.042260000000000006, 0.040659999999999995, 0.0392, 0.0379, 0.036579999999999994, 0.03541999999999999], \"mode\": \"lines+markers\", \"name\": \"Training Set\"}], {\"title\": \"RNN Accuracy(Hidden layer= 100) With Weight Decaying\", \"xaxis\": {\"title\": \"# Of Iterations\"}, \"yaxis\": {\"title\": \"Loss\"}}, {\"showLink\": true, \"linkText\": \"Export to plot.ly\"})});</script>"
      ]
     },
     "metadata": {},
     "output_type": "display_data"
    }
   ],
   "source": [
    "trace0 = go.Scatter(\n",
    "    x = np.arange(31) * 100,\n",
    "    y = val_loss,\n",
    "    mode = 'lines+markers',\n",
    "    name = 'Validation Set')\n",
    "    \n",
    "trace1 = go.Scatter(\n",
    "    x = np.arange(31) * 100,\n",
    "    y = train_loss,\n",
    "    mode = 'lines+markers',\n",
    "    name = 'Training Set')\n",
    "    \n",
    "data = [trace0, trace1]\n",
    "\n",
    "layout = dict(title = 'RNN Accuracy(Hidden layer= 100) With Weight Decaying',\n",
    "              xaxis = dict(title = '# Of Iterations'),\n",
    "              yaxis = dict(title = 'Loss'),\n",
    "              )\n",
    "\n",
    "fig = go.Figure(data=data, layout=layout)\n",
    "offline.iplot(fig, filename='angled-text-bar')"
   ]
  },
  {
   "cell_type": "code",
   "execution_count": 25,
   "metadata": {},
   "outputs": [
    {
     "data": {
      "text/plain": [
       "array([41.6080402 , 36.71259843, 41.31736527, 39.80099502, 40.0203666 ])"
      ]
     },
     "execution_count": 25,
     "metadata": {},
     "output_type": "execute_result"
    }
   ],
   "source": [
    "cnn_mli=np.loadtxt(\"CNN-MNLI.csv\", delimiter=',')\n",
    "cnn_mli"
   ]
  },
  {
   "cell_type": "code",
   "execution_count": 32,
   "metadata": {},
   "outputs": [
    {
     "data": {
      "application/vnd.plotly.v1+json": {
       "data": [
        {
         "marker": {
          "color": "rgb(176,23,31)"
         },
         "name": "SVM",
         "type": "bar",
         "x": [
          "fiction",
          "government",
          "slate",
          "telephone",
          "travel"
         ],
         "y": [
          41.6080402,
          36.71259843,
          41.31736527,
          39.80099502,
          40.0203666
         ]
        }
       ],
       "layout": {
        "barmode": "group",
        "xaxis": {
         "tickangle": -45
        }
       }
      },
      "text/html": [
       "<div id=\"517873d8-ff41-48f6-bd57-8a216e726f20\" style=\"height: 525px; width: 100%;\" class=\"plotly-graph-div\"></div><script type=\"text/javascript\">require([\"plotly\"], function(Plotly) { window.PLOTLYENV=window.PLOTLYENV || {};window.PLOTLYENV.BASE_URL=\"https://plot.ly\";Plotly.newPlot(\"517873d8-ff41-48f6-bd57-8a216e726f20\", [{\"type\": \"bar\", \"x\": [\"fiction\", \"government\", \"slate\", \"telephone\", \"travel\"], \"y\": [41.6080402, 36.71259843, 41.31736527, 39.80099502, 40.0203666], \"name\": \"SVM\", \"marker\": {\"color\": \"rgb(176,23,31)\"}}], {\"xaxis\": {\"tickangle\": -45}, \"barmode\": \"group\"}, {\"showLink\": true, \"linkText\": \"Export to plot.ly\"})});</script>"
      ],
      "text/vnd.plotly.v1+html": [
       "<div id=\"517873d8-ff41-48f6-bd57-8a216e726f20\" style=\"height: 525px; width: 100%;\" class=\"plotly-graph-div\"></div><script type=\"text/javascript\">require([\"plotly\"], function(Plotly) { window.PLOTLYENV=window.PLOTLYENV || {};window.PLOTLYENV.BASE_URL=\"https://plot.ly\";Plotly.newPlot(\"517873d8-ff41-48f6-bd57-8a216e726f20\", [{\"type\": \"bar\", \"x\": [\"fiction\", \"government\", \"slate\", \"telephone\", \"travel\"], \"y\": [41.6080402, 36.71259843, 41.31736527, 39.80099502, 40.0203666], \"name\": \"SVM\", \"marker\": {\"color\": \"rgb(176,23,31)\"}}], {\"xaxis\": {\"tickangle\": -45}, \"barmode\": \"group\"}, {\"showLink\": true, \"linkText\": \"Export to plot.ly\"})});</script>"
      ]
     },
     "metadata": {},
     "output_type": "display_data"
    }
   ],
   "source": [
    "cnn100_d=np.loadtxt(\"CNN-100-weight_deca2y-Hidden.csv\", delimiter=',')\n",
    "trace0 = go.Bar(\n",
    "    x=['fiction', 'government', 'slate', 'telephone', 'travel'],\n",
    "    y = cnn_mli.tolist(),\n",
    "    name='SVM',\n",
    "    marker=dict(\n",
    "        color='rgb(176,23,31)'\n",
    "    ) )\n",
    "\n",
    "\n",
    "\n",
    "data = [trace0]\n",
    "layout = go.Layout(\n",
    "    xaxis=dict(tickangle=-45),\n",
    "    barmode='group', )\n",
    "\n",
    "\n",
    "fig = go.Figure(data=data, layout=layout)\n",
    "offline.iplot(fig, filename='angled-text-bar')"
   ]
  },
  {
   "cell_type": "code",
   "execution_count": null,
   "metadata": {},
   "outputs": [],
   "source": [
    "trace0 = go.Bar(\n",
    "    x=list(cv_df['label_name'].unique()),\n",
    "    y=list(cv_df.groupby('label_name').fscore.mean()),\n",
    "    name='SVM',\n",
    "    marker=dict(\n",
    "        color='rgb(176,23,31)'\n",
    "    )\n",
    ")\n",
    "trace1 = go.Bar(\n",
    "    x=list(cv_df_lr['label_name'].unique()),\n",
    "    y=list(cv_df_lr.groupby('label_name').fscore.mean()),\n",
    "    name='Log Reg',\n",
    "    marker=dict(\n",
    "        color='rgb(0,0,128)',\n",
    "    )\n",
    ")\n",
    "\n",
    "trace2 = go.Bar(\n",
    "    x=list(cv_df_nb['label_name'].unique()),\n",
    "    y=list(cv_df_nb.groupby('label_name').fscore.mean()),\n",
    "    name='Naive Bayes',\n",
    "    marker=dict(\n",
    "        color='rgb(50,205,50)',\n",
    "    )\n",
    ")\n",
    "\n",
    "trace3 = go.Bar(\n",
    "    x=list(cv_df_knn['label_name'].unique()),\n",
    "    y=list(cv_df_knn.groupby('label_name').fscore.mean()),\n",
    "    name='KNN',\n",
    "    marker=dict(\n",
    "        color='rgb(255,185,15)',\n",
    "    )\n",
    ")\n",
    "\n",
    "\n",
    "\n",
    "\n",
    "data = [trace0, trace1, trace2,trace3]\n",
    "layout = go.Layout(\n",
    "    xaxis=dict(tickangle=-45),\n",
    "    barmode='group',\n",
    ")\n",
    "\n",
    "fig = go.Figure(data=data, layout=layout)\n",
    "offline.iplot(fig, filename='angled-text-bar')"
   ]
  }
 ],
 "metadata": {
  "kernelspec": {
   "display_name": "Python 3",
   "language": "python",
   "name": "python3"
  },
  "language_info": {
   "codemirror_mode": {
    "name": "ipython",
    "version": 3
   },
   "file_extension": ".py",
   "mimetype": "text/x-python",
   "name": "python",
   "nbconvert_exporter": "python",
   "pygments_lexer": "ipython3",
   "version": "3.6.3"
  }
 },
 "nbformat": 4,
 "nbformat_minor": 2
}
